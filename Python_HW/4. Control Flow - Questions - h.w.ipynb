{
 "cells": [
  {
   "attachments": {},
   "cell_type": "markdown",
   "id": "de7cfede",
   "metadata": {},
   "source": [
    "# Control Flow\n",
    "\n",
    "## Questions"
   ]
  },
  {
   "attachments": {},
   "cell_type": "markdown",
   "id": "b4d820e8",
   "metadata": {},
   "source": [
    "Exercise 1: if statement\n",
    "\n",
    "Given an integer, `x=5`, write an `if` statement to print 'x is greater than 3.' if `x` is indeed greater than 3."
   ]
  },
  {
   "cell_type": "code",
   "execution_count": 3,
   "id": "c21428e3",
   "metadata": {},
   "outputs": [
    {
     "name": "stdout",
     "output_type": "stream",
     "text": [
      "x is greater than 3.\n"
     ]
    }
   ],
   "source": [
    "x = 5\n",
    "\n",
    "if x > 3:\n",
    "    print('x is greater than 3.')\n"
   ]
  },
  {
   "attachments": {},
   "cell_type": "markdown",
   "id": "9f104790",
   "metadata": {},
   "source": [
    "Exercise 2: if-else statement\n",
    "\n",
    "Given an integer, `x=2`, write an `if-else` statement to print 'x is greater than 3.' if `x` is greater than 3, and 'x is not greater than 3.' otherwise."
   ]
  },
  {
   "cell_type": "code",
   "execution_count": 4,
   "id": "5cab507f",
   "metadata": {},
   "outputs": [
    {
     "name": "stdout",
     "output_type": "stream",
     "text": [
      "x is not greater than 3\n"
     ]
    }
   ],
   "source": [
    "x = 2\n",
    "\n",
    "if x > 3:\n",
    "    print('x is greater than 3')\n",
    "else:\n",
    "    print('x is not greater than 3')\n"
   ]
  },
  {
   "attachments": {},
   "cell_type": "markdown",
   "id": "4c1bf05d",
   "metadata": {},
   "source": [
    "Exercise 3: if-elif-else statement\n",
    "\n",
    "Given an integer, `x=3`, write an `if-elif-else` statement to print 'x is less than 3.' if `x` is less than 3, 'x is 3.' if `x` is equal to 3, and 'x is greater than 3.' otherwise."
   ]
  },
  {
   "cell_type": "code",
   "execution_count": 5,
   "id": "6084b57a",
   "metadata": {},
   "outputs": [
    {
     "name": "stdout",
     "output_type": "stream",
     "text": [
      "x is 3\n"
     ]
    }
   ],
   "source": [
    "x = 3 \n",
    "\n",
    "if x > 3:\n",
    "    print('x is greater than 3')\n",
    "elif x == 3:\n",
    "    print('x is 3')\n",
    "else: \n",
    "    print('x is less than 3')\n"
   ]
  },
  {
   "attachments": {},
   "cell_type": "markdown",
   "id": "537f350d",
   "metadata": {},
   "source": [
    "Exercise 4: Nested if statement\n",
    "\n",
    "Given two integers, `x=10` and `y=5`, write nested `if` statements (an `if` statement inside another `if` statement) to print 'x is greater than y and y is 5.' if `x` is indeed greater than `y` and `y` is indeed 5."
   ]
  },
  {
   "cell_type": "code",
   "execution_count": 6,
   "id": "7bb3a07c",
   "metadata": {},
   "outputs": [
    {
     "name": "stdout",
     "output_type": "stream",
     "text": [
      "x is greater than y and y is 5.\n"
     ]
    }
   ],
   "source": [
    "x = 10\n",
    "y = 5\n",
    "\n",
    "if x > y:\n",
    "    if y == 5:\n",
    "        print('x is greater than y and y is 5.')\n"
   ]
  },
  {
   "attachments": {},
   "cell_type": "markdown",
   "id": "63422567",
   "metadata": {},
   "source": [
    "Exercise 5: for loop\n",
    "\n",
    "Print each item in the list `fruits = ['apple', 'banana', 'cherry']` using a `for` loop."
   ]
  },
  {
   "cell_type": "code",
   "execution_count": 7,
   "id": "7356e1e6",
   "metadata": {},
   "outputs": [
    {
     "name": "stdout",
     "output_type": "stream",
     "text": [
      "apple\n",
      "banana\n",
      "cherry\n"
     ]
    }
   ],
   "source": [
    "fruits = ['apple', 'banana', 'cherry']\n",
    "\n",
    "for fruit in fruits:\n",
    "    print(fruit)\n"
   ]
  },
  {
   "attachments": {},
   "cell_type": "markdown",
   "id": "1cd0a52a",
   "metadata": {},
   "source": [
    "Exercise 6: for loop over a string\n",
    "\n",
    "Print each character of the string `s = 'Hello, world!'` using a `for` loop."
   ]
  },
  {
   "cell_type": "code",
   "execution_count": 9,
   "id": "1639d700",
   "metadata": {},
   "outputs": [
    {
     "name": "stdout",
     "output_type": "stream",
     "text": [
      "H\n",
      "e\n",
      "l\n",
      "l\n",
      "o\n",
      ",\n",
      " \n",
      "w\n",
      "o\n",
      "r\n",
      "l\n",
      "d\n",
      "!\n"
     ]
    }
   ],
   "source": [
    "s = 'Hello, world!'\n",
    "\n",
    "for character in s:\n",
    "    print(character)\n"
   ]
  },
  {
   "attachments": {},
   "cell_type": "markdown",
   "id": "4a0b987f",
   "metadata": {},
   "source": [
    "Exercise 7: for loop with break\n",
    "\n",
    "Print each item in the list `fruits = ['apple', 'banana', 'cherry']` using a `for` loop, but stop the loop before it comes to 'banana'."
   ]
  },
  {
   "cell_type": "code",
   "execution_count": 10,
   "id": "0a04f7d6",
   "metadata": {},
   "outputs": [
    {
     "name": "stdout",
     "output_type": "stream",
     "text": [
      "apple\n"
     ]
    }
   ],
   "source": [
    "fruits = ['apple', 'banana', 'cherry']\n",
    "\n",
    "for item in fruits:\n",
    "    if item == 'banana':\n",
    "        break\n",
    "    print(item)\n"
   ]
  },
  {
   "attachments": {},
   "cell_type": "markdown",
   "id": "8931fb7d",
   "metadata": {},
   "source": [
    "Exercise 8: for loop with continue\n",
    "\n",
    "Print each item in the list `fruits = ['apple', 'banana', 'cherry']` using a `for` loop, but skip 'banana'."
   ]
  },
  {
   "cell_type": "code",
   "execution_count": 12,
   "id": "64effff5",
   "metadata": {},
   "outputs": [
    {
     "name": "stdout",
     "output_type": "stream",
     "text": [
      "apple\n",
      "cherry\n"
     ]
    }
   ],
   "source": [
    "fruits = ['apple', 'banana', 'cherry']\n",
    "\n",
    "for item in fruits:\n",
    "    if item == 'banana':\n",
    "        continue\n",
    "    print(item)\n"
   ]
  },
  {
   "attachments": {},
   "cell_type": "markdown",
   "id": "b916e5b2",
   "metadata": {},
   "source": [
    "Exercise 9: for loop with range function\n",
    "\n",
    "Print numbers from 0 to 5 using a `for` loop and the `range()` function."
   ]
  },
  {
   "cell_type": "code",
   "execution_count": 15,
   "id": "af4c2e10",
   "metadata": {},
   "outputs": [
    {
     "name": "stdout",
     "output_type": "stream",
     "text": [
      "0\n",
      "1\n",
      "2\n",
      "3\n",
      "4\n",
      "5\n"
     ]
    }
   ],
   "source": [
    "for numbers in range(6):\n",
    "    print(numbers)\n"
   ]
  },
  {
   "attachments": {},
   "cell_type": "markdown",
   "id": "59952350",
   "metadata": {},
   "source": [
    "Exercise 10: for loop with range function and step argument\n",
    "\n",
    "Print every second number from 0 to 10 using a `for` loop and the `range()` function with a step argument."
   ]
  },
  {
   "cell_type": "code",
   "execution_count": 16,
   "id": "daba1a88",
   "metadata": {},
   "outputs": [
    {
     "name": "stdout",
     "output_type": "stream",
     "text": [
      "0\n",
      "2\n",
      "4\n",
      "6\n",
      "8\n",
      "10\n"
     ]
    }
   ],
   "source": [
    "for sec_number in range(0, 11, 2):\n",
    "    print(sec_number)\n"
   ]
  },
  {
   "attachments": {},
   "cell_type": "markdown",
   "id": "c2ea1093",
   "metadata": {},
   "source": [
    "Exercise 11: while loop\n",
    "\n",
    "Print numbers from 1 to 5 using a `while` loop."
   ]
  },
  {
   "cell_type": "code",
   "execution_count": 4,
   "id": "00f0d653",
   "metadata": {},
   "outputs": [
    {
     "name": "stdout",
     "output_type": "stream",
     "text": [
      "5\n",
      "4\n",
      "3\n",
      "2\n",
      "1\n"
     ]
    }
   ],
   "source": [
    "x = 5\n",
    "\n",
    "while x > 0:\n",
    "    print(x)\n",
    "    x -= 1\n"
   ]
  },
  {
   "attachments": {},
   "cell_type": "markdown",
   "id": "3b8a6255",
   "metadata": {},
   "source": [
    "Exercise 12: while loop with break\n",
    "\n",
    "Print numbers from 1 to 10 using a `while` loop, but stop the loop when the variable `i` is `5`."
   ]
  },
  {
   "cell_type": "code",
   "execution_count": 29,
   "id": "f810c0f5",
   "metadata": {},
   "outputs": [
    {
     "name": "stdout",
     "output_type": "stream",
     "text": [
      "1\n",
      "2\n",
      "3\n",
      "4\n",
      "5\n"
     ]
    }
   ],
   "source": [
    "i = 1\n",
    "\n",
    "while (i <= 10):\n",
    "    print(i)\n",
    "    if (i >= 5):\n",
    "        break\n",
    "    i += 1\n"
   ]
  },
  {
   "attachments": {},
   "cell_type": "markdown",
   "id": "eb88b22c",
   "metadata": {},
   "source": [
    "Exercise 13: while loop with continue\n",
    "\n",
    "Print numbers from 1 to 5 using a `while` loop, but skip the number 3."
   ]
  },
  {
   "cell_type": "code",
   "execution_count": 32,
   "id": "80d22934",
   "metadata": {},
   "outputs": [
    {
     "name": "stdout",
     "output_type": "stream",
     "text": [
      "1\n",
      "2\n",
      "4\n",
      "5\n"
     ]
    }
   ],
   "source": [
    "i = 1\n",
    "\n",
    "while i <= 5:\n",
    "    if i == 3:\n",
    "        i += 1\n",
    "        continue\n",
    "    print(i)\n",
    "    i += 1\n"
   ]
  },
  {
   "attachments": {},
   "cell_type": "markdown",
   "id": "ad70db33",
   "metadata": {},
   "source": [
    "Exercise 14: Pass Statement\n",
    "\n",
    "Write a for loop that loops over the numbers from 1 to 10, but contains a pass statement for the processing of the number 5."
   ]
  },
  {
   "cell_type": "code",
   "execution_count": 33,
   "id": "79eefd31",
   "metadata": {},
   "outputs": [
    {
     "name": "stdout",
     "output_type": "stream",
     "text": [
      "1\n",
      "2\n",
      "3\n",
      "4\n",
      "6\n",
      "7\n",
      "8\n",
      "9\n",
      "10\n"
     ]
    }
   ],
   "source": [
    "for i in range(1, 11):\n",
    "    if i == 5:\n",
    "        pass\n",
    "    else:\n",
    "        print(i)\n"
   ]
  },
  {
   "attachments": {},
   "cell_type": "markdown",
   "id": "169d56fd",
   "metadata": {},
   "source": [
    "Exercise 15: Check if a number is in a list using the in keyword\n",
    "\n",
    "Given a list `numbers = [1, 3, 5, 7]` and a number `n = 5`, print '5 is in the list' if 5 is indeed in the list `numbers`."
   ]
  },
  {
   "cell_type": "code",
   "execution_count": 34,
   "id": "ea7c317a",
   "metadata": {},
   "outputs": [
    {
     "name": "stdout",
     "output_type": "stream",
     "text": [
      "5 is in the list\n"
     ]
    }
   ],
   "source": [
    "numbers = [1, 3, 5, 7]\n",
    "n = 5\n",
    "\n",
    "if n in numbers:\n",
    "    print(f'{n} is in the list')\n"
   ]
  },
  {
   "attachments": {},
   "cell_type": "markdown",
   "id": "bd076b85",
   "metadata": {},
   "source": [
    "Exercise 16: Check if a number is not in a list using the not in keyword\n",
    "\n",
    "Given a list `numbers = [1, 3, 5, 7]` and a number `n = 4`, print '4 is not in the list' if 4 is not in the list `numbers`."
   ]
  },
  {
   "cell_type": "code",
   "execution_count": 35,
   "id": "3ebb2426",
   "metadata": {},
   "outputs": [
    {
     "name": "stdout",
     "output_type": "stream",
     "text": [
      "4 is not in the list\n"
     ]
    }
   ],
   "source": [
    "numbers = [1, 3, 5, 7]\n",
    "n = 4\n",
    "\n",
    "if n in numbers:\n",
    "    print(f'{n} is in the list')\n",
    "else:\n",
    "    print(f'{n} is not in the list')\n"
   ]
  },
  {
   "attachments": {},
   "cell_type": "markdown",
   "id": "09d5b065",
   "metadata": {},
   "source": [
    "Exercise 17: Use any() function to check if any number in a list is greater than 10.\n",
    "\n",
    "Given a list `numbers = [1, 3, 5, 7, 11, 13]`, use the `any()` function to check if any number in the list is greater than 10."
   ]
  },
  {
   "cell_type": "code",
   "execution_count": 36,
   "id": "52c3d533",
   "metadata": {},
   "outputs": [
    {
     "name": "stdout",
     "output_type": "stream",
     "text": [
      "true\n"
     ]
    }
   ],
   "source": [
    "numbers = [1, 3, 5, 7, 11, 13]\n",
    "\n",
    "if any(num > 10 for num in numbers):\n",
    "    print('true')\n",
    "else:\n",
    "    print('false')\n"
   ]
  },
  {
   "attachments": {},
   "cell_type": "markdown",
   "id": "ac659c00",
   "metadata": {},
   "source": [
    "Exercise 18: Use all() function to check if all numbers in a list are greater than 0.\n",
    "\n",
    "Given a list `numbers = [1, 3, 5, 7, 11, 13]`, use the `all()` function to check if all numbers in the list are greater than 0."
   ]
  },
  {
   "cell_type": "code",
   "execution_count": 37,
   "id": "96819302",
   "metadata": {},
   "outputs": [
    {
     "name": "stdout",
     "output_type": "stream",
     "text": [
      "true\n"
     ]
    }
   ],
   "source": [
    "numbers = [1, 3, 5, 7, 11, 13]\n",
    "\n",
    "if all(num > 0 for num in numbers):\n",
    "    print('true')\n",
    "else:\n",
    "    print('false')\n"
   ]
  },
  {
   "attachments": {},
   "cell_type": "markdown",
   "id": "cab76807",
   "metadata": {},
   "source": [
    "Exercise 19: Use enumerate() in a for loop to print the index and value of a list.\n",
    "\n",
    "Given a list `fruits = ['apple', 'banana', 'cherry']`, use the `enumerate()` function in a `for` loop to print the index and value of each item in the list."
   ]
  },
  {
   "cell_type": "code",
   "execution_count": 38,
   "id": "4fd8a9f8",
   "metadata": {},
   "outputs": [
    {
     "name": "stdout",
     "output_type": "stream",
     "text": [
      "Index: 0, Value: apple\n",
      "Index: 1, Value: banana\n",
      "Index: 2, Value: cherry\n"
     ]
    }
   ],
   "source": [
    "fruits = ['apple', 'banana', 'cherry']\n",
    "\n",
    "for index, value in enumerate(fruits):\n",
    "    print(f'Index: {index}, Value: {value}')\n"
   ]
  },
  {
   "attachments": {},
   "cell_type": "markdown",
   "id": "8faceb69",
   "metadata": {},
   "source": [
    "Exercise 20: Use zip() in a for loop to iterate over two lists simultaneously.\n",
    "\n",
    "Given two lists `fruits = ['apple', 'banana', 'cherry']` and `colors = ['red', 'yellow', 'dark red']`, use the `zip()` function in a `for` loop to print each fruit and its color simultaneously."
   ]
  },
  {
   "cell_type": "code",
   "execution_count": 39,
   "id": "656bdab1",
   "metadata": {},
   "outputs": [
    {
     "name": "stdout",
     "output_type": "stream",
     "text": [
      "Fruit: apple, Color: red\n",
      "Fruit: banana, Color: yellow\n",
      "Fruit: cherry, Color: dark red\n"
     ]
    }
   ],
   "source": [
    "fruits = ['apple', 'banana', 'cherry']\n",
    "colors = ['red', 'yellow', 'dark red']\n",
    "\n",
    "for fruit, color in zip(fruits, colors):\n",
    "    print(f'Fruit: {fruit}, Color: {color}')\n"
   ]
  },
  {
   "attachments": {},
   "cell_type": "markdown",
   "id": "4d8461cd",
   "metadata": {},
   "source": [
    "Exercise 21: Create a dictionary using dictionary comprehension where the keys are numbers between 1 and 5 (both included) and the values are the squares of the keys."
   ]
  },
  {
   "cell_type": "code",
   "execution_count": 40,
   "id": "e5c78d00",
   "metadata": {},
   "outputs": [
    {
     "name": "stdout",
     "output_type": "stream",
     "text": [
      "{1: 1, 2: 4, 3: 9, 4: 16, 5: 25}\n"
     ]
    }
   ],
   "source": [
    "squares_dict = {num: num ** 2 for num in range(1, 6)}\n",
    "print(squares_dict)\n"
   ]
  },
  {
   "attachments": {},
   "cell_type": "markdown",
   "id": "e0e49976",
   "metadata": {},
   "source": [
    "Exercise 22: Create a dictionary using dictionary comprehension where the keys are numbers between 1 and 10 (both included) and the values are 'Even' for even numbers and 'Odd' for odd numbers."
   ]
  },
  {
   "cell_type": "code",
   "execution_count": 41,
   "id": "24c5a454",
   "metadata": {},
   "outputs": [
    {
     "name": "stdout",
     "output_type": "stream",
     "text": [
      "{1: 'Odd', 2: 'Even', 3: 'Odd', 4: 'Even', 5: 'Odd', 6: 'Even', 7: 'Odd', 8: 'Even', 9: 'Odd', 10: 'Even'}\n"
     ]
    }
   ],
   "source": [
    "even_odd_dict = {num: 'Even' if num % 2 == 0 else 'Odd' for num in range(1, 11)}\n",
    "print(even_odd_dict)\n"
   ]
  },
  {
   "attachments": {},
   "cell_type": "markdown",
   "id": "a6a118c5",
   "metadata": {},
   "source": [
    "Exercise 23: Assign a variable 'x' a value of 5. Use a ternary operator to assign a variable 'y' a value of 'Greater than 2' if 'x' is greater than 2, else 'Not greater than 2'."
   ]
  },
  {
   "cell_type": "code",
   "execution_count": 42,
   "id": "3215abdc",
   "metadata": {},
   "outputs": [
    {
     "name": "stdout",
     "output_type": "stream",
     "text": [
      "Greater than 2\n"
     ]
    }
   ],
   "source": [
    "x = 5\n",
    "y = 'Greater than 2' if x > 2 else 'Not greater than 2'\n",
    "print(y)\n"
   ]
  },
  {
   "attachments": {},
   "cell_type": "markdown",
   "id": "3fcbd6d6",
   "metadata": {},
   "source": [
    "Exercise 24: Use a ternary operator to assign a variable 'y' a value of 'Positive' if 'x' is greater than 0, 'Zero' if 'x' is 0, and 'Negative' otherwise.\n",
    "\n",
    "<b>Python has a `ternary` operator, which is a simpler form of an if-else statement. It's a one-liner if-else.</b>"
   ]
  },
  {
   "cell_type": "code",
   "execution_count": 43,
   "id": "688388fa",
   "metadata": {},
   "outputs": [
    {
     "name": "stdout",
     "output_type": "stream",
     "text": [
      "Negative\n"
     ]
    }
   ],
   "source": [
    "x = -100\n",
    "y = 'Positive' if x > 0 else 'Zero' if x == 0 else 'Negative'\n",
    "print(y)"
   ]
  }
 ],
 "metadata": {
  "kernelspec": {
   "display_name": "Python 3",
   "language": "python",
   "name": "python3"
  },
  "language_info": {
   "codemirror_mode": {
    "name": "ipython",
    "version": 3
   },
   "file_extension": ".py",
   "mimetype": "text/x-python",
   "name": "python",
   "nbconvert_exporter": "python",
   "pygments_lexer": "ipython3",
   "version": "3.10.9"
  }
 },
 "nbformat": 4,
 "nbformat_minor": 5
}
