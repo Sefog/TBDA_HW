{
 "cells": [
  {
   "attachments": {},
   "cell_type": "markdown",
   "id": "2852f211",
   "metadata": {},
   "source": [
    "# Variables & DataTypes\n",
    "\n",
    "## Questions"
   ]
  },
  {
   "attachments": {},
   "cell_type": "markdown",
   "id": "2cce0812",
   "metadata": {},
   "source": [
    "**Exercise 1: Basic Variables**\n",
    "\n",
    "Create a variable named `greeting` and assign the string `Hello, World!` to it. Print the variable."
   ]
  },
  {
   "cell_type": "code",
   "execution_count": 2,
   "id": "2f5493ff",
   "metadata": {},
   "outputs": [
    {
     "name": "stdout",
     "output_type": "stream",
     "text": [
      "Hello, World\n"
     ]
    }
   ],
   "source": [
    "greeting = (\"Hello, World\")\n",
    "print (greeting)"
   ]
  },
  {
   "attachments": {},
   "cell_type": "markdown",
   "id": "5410d768",
   "metadata": {},
   "source": [
    "**Exercise 2: Simple Arithmetic**\n",
    "\n",
    "Create two variables, `a` and `b`, assign them the values `5` and `7`, respectively. Add these two variables and assign the result to a new variable `c`. Print `c`."
   ]
  },
  {
   "cell_type": "code",
   "execution_count": 2,
   "id": "3d99e3f0",
   "metadata": {},
   "outputs": [
    {
     "name": "stdout",
     "output_type": "stream",
     "text": [
      "12\n"
     ]
    }
   ],
   "source": [
    "a = 5 \n",
    "b = 7\n",
    "c = (a+b)\n",
    "print (c)\n"
   ]
  },
  {
   "attachments": {},
   "cell_type": "markdown",
   "id": "23aaf5f1",
   "metadata": {},
   "source": [
    "**Exercise 3: String Concatenation**\n",
    "\n",
    "Create two string variables, `first_name` and `last_name`, and assign your first and last names to them. Concatenate these two variables with a space in between, and assign the result to a new variable `full_name`. Print `full_name`."
   ]
  },
  {
   "cell_type": "code",
   "execution_count": 8,
   "id": "706de408",
   "metadata": {},
   "outputs": [
    {
     "name": "stdout",
     "output_type": "stream",
     "text": [
      "Yosef Gerstein\n"
     ]
    }
   ],
   "source": [
    "first_name = 'Yosef'\n",
    "last_name = 'Gerstein'\n",
    "full_name = (first_name +' '+ last_name)\n",
    "\n",
    "print(full_name)\n"
   ]
  },
  {
   "attachments": {},
   "cell_type": "markdown",
   "id": "4c3585b1",
   "metadata": {},
   "source": [
    "**Exercise 4: Converting Integers to Floats**\n",
    "\n",
    "Create an integer variable `x` with value `10`. Convert `x` to a float and assign it to a new variable `y`. Print `y`."
   ]
  },
  {
   "cell_type": "code",
   "execution_count": 9,
   "id": "2a7d3105",
   "metadata": {},
   "outputs": [
    {
     "name": "stdout",
     "output_type": "stream",
     "text": [
      "10.0\n"
     ]
    }
   ],
   "source": [
    "x = 10\n",
    "y = float(x)\n",
    "\n",
    "print(y)\n"
   ]
  },
  {
   "attachments": {},
   "cell_type": "markdown",
   "id": "6294acea",
   "metadata": {},
   "source": [
    "**Exercise 5: Boolean Variables**\n",
    "\n",
    "Assign the value `True` to a variable `is_active`. Print `is_active`."
   ]
  },
  {
   "cell_type": "code",
   "execution_count": 10,
   "id": "52122c9d",
   "metadata": {},
   "outputs": [
    {
     "data": {
      "text/plain": [
       "True"
      ]
     },
     "execution_count": 10,
     "metadata": {},
     "output_type": "execute_result"
    }
   ],
   "source": [
    "is_active = True\n",
    "\n",
    "is_active\n"
   ]
  },
  {
   "attachments": {},
   "cell_type": "markdown",
   "id": "047d3bcf",
   "metadata": {},
   "source": [
    "**Exercise 6: Variable Swap**\n",
    "\n",
    "Swap the values of two variables, `p` and `q`, without using a third variable."
   ]
  },
  {
   "cell_type": "code",
   "execution_count": 18,
   "id": "71b700fb",
   "metadata": {},
   "outputs": [
    {
     "name": "stdout",
     "output_type": "stream",
     "text": [
      "p = 20\n",
      "q = 10\n"
     ]
    }
   ],
   "source": [
    "p = 10\n",
    "q = 20\n",
    "\n",
    "p, q = q, p\n",
    "\n",
    "print(\"p =\", p)\n",
    "print(\"q =\", q)"
   ]
  },
  {
   "attachments": {},
   "cell_type": "markdown",
   "id": "293e716d",
   "metadata": {},
   "source": [
    "**Exercise 7: String Length**\n",
    "\n",
    "Calculate the length of a string variable `sentence`. Print the length"
   ]
  },
  {
   "cell_type": "code",
   "execution_count": 11,
   "id": "c63895c5",
   "metadata": {},
   "outputs": [
    {
     "data": {
      "text/plain": [
       "8"
      ]
     },
     "execution_count": 11,
     "metadata": {},
     "output_type": "execute_result"
    }
   ],
   "source": [
    "len(\"Sentence\")\n"
   ]
  },
  {
   "attachments": {},
   "cell_type": "markdown",
   "id": "f473b4fc",
   "metadata": {},
   "source": [
    "**Exercise 8: Negative Number**\n",
    "\n",
    "Create a negative integer variable `neg_num` with value `-100`. Print `neg_num`."
   ]
  },
  {
   "cell_type": "code",
   "execution_count": 12,
   "id": "3b7f6524",
   "metadata": {},
   "outputs": [
    {
     "name": "stdout",
     "output_type": "stream",
     "text": [
      "-100\n"
     ]
    }
   ],
   "source": [
    "neg_num = -100\n",
    "\n",
    "print(neg_num)\n"
   ]
  },
  {
   "attachments": {},
   "cell_type": "markdown",
   "id": "16d8fc1a",
   "metadata": {},
   "source": [
    "**Exercise 9: Multi-line Strings**\n",
    "\n",
    "Assign a multi-line string (string with line breaks) to a variable `poem`. Print `poem`."
   ]
  },
  {
   "cell_type": "code",
   "execution_count": 13,
   "id": "8f1ba46a",
   "metadata": {},
   "outputs": [
    {
     "name": "stdout",
     "output_type": "stream",
     "text": [
      "Roses are red, \n",
      "Violets are blue, \n",
      "Python is awesome, \n",
      "And so are you.\n"
     ]
    }
   ],
   "source": [
    "poem = \"\"\"Roses are red, \n",
    "Violets are blue, \n",
    "Python is awesome, \n",
    "And so are you.\"\"\"\n",
    "\n",
    "print (poem)\n"
   ]
  },
  {
   "attachments": {},
   "cell_type": "markdown",
   "id": "19e7664d",
   "metadata": {},
   "source": [
    "**Exercise 10: User Input**\n",
    "\n",
    "Write a program to accept user input `2`, convert it to an integer, multiply it by 2, and display it."
   ]
  },
  {
   "cell_type": "code",
   "execution_count": 19,
   "id": "aa3446fe",
   "metadata": {},
   "outputs": [
    {
     "name": "stdout",
     "output_type": "stream",
     "text": [
      "4\n"
     ]
    }
   ],
   "source": [
    "user_input = input(\"Enter a number: \")\n",
    "\n",
    "number = int(user_input)\n",
    "\n",
    "result = number * 2\n",
    "\n",
    "print(result)\n"
   ]
  },
  {
   "attachments": {},
   "cell_type": "markdown",
   "id": "93bb180d",
   "metadata": {},
   "source": [
    "**Exercise 11: Type Conversion**\n",
    "\n",
    "Write a Python program to add a string `Python` and a number `3`. Hint: You'll need to convert the number to a string first."
   ]
  },
  {
   "cell_type": "code",
   "execution_count": 21,
   "id": "457f4ded",
   "metadata": {},
   "outputs": [
    {
     "name": "stdout",
     "output_type": "stream",
     "text": [
      "Python3\n"
     ]
    }
   ],
   "source": [
    "A = \"Python\"\n",
    "B = 3\n",
    "C = A + str(B)\n",
    "\n",
    "print(C)"
   ]
  },
  {
   "attachments": {},
   "cell_type": "markdown",
   "id": "6223d46e",
   "metadata": {},
   "source": [
    "**Exercise 12: String Formatting**\n",
    "\n",
    "Print the variables `greeting` (a string), `a` and `b` (integers), and `z` (a float) in a formatted string."
   ]
  },
  {
   "cell_type": "code",
   "execution_count": 36,
   "id": "a9ad907d",
   "metadata": {},
   "outputs": [
    {
     "name": "stdout",
     "output_type": "stream",
     "text": [
      "Hello, the integers are 10 and 20, and the float is 3.5.\n"
     ]
    }
   ],
   "source": [
    "A = 10 \n",
    "B = 20\n",
    "C = 3.5\n",
    "\n",
    "greeting = (\"Hello, the integers are\"+' '+ str(A) + \" and \" + str(B) + ', ' + \"and the float is \"+ str(C) + '.')\n",
    "\n",
    "print(greeting)\n"
   ]
  },
  {
   "attachments": {},
   "cell_type": "markdown",
   "id": "d5840be3",
   "metadata": {},
   "source": [
    "**Exercise 13: Arithmetic Operations**\n",
    "\n",
    "Perform all basic arithmetic operations with two variables `x = 15` and `y = 6`."
   ]
  },
  {
   "cell_type": "code",
   "execution_count": 28,
   "id": "29317be4",
   "metadata": {},
   "outputs": [
    {
     "name": "stdout",
     "output_type": "stream",
     "text": [
      "Addition: 21\n",
      "Subtraction: 9\n",
      "Multiplication: 90\n",
      "Division: 2.5\n",
      "Floor division: 2\n",
      "Modulus: 3\n",
      "Exponent: 11390625\n"
     ]
    }
   ],
   "source": [
    "x = 15\n",
    "y = 6\n",
    "\n",
    "print (\"Addition:\" , str(x+y))\n",
    "print (\"Subtraction:\" , str(x-y)) \n",
    "print (\"Multiplication:\" , str(x*y)) \n",
    "print (\"Division:\" , str(x/y)) \n",
    "print (\"Floor division:\" , str(x//y)) \n",
    "print (\"Modulus:\" , str(x%y)) \n",
    "print (\"Exponent:\" , str(x**y)) \n"
   ]
  },
  {
   "attachments": {},
   "cell_type": "markdown",
   "id": "bf7e8b78",
   "metadata": {},
   "source": [
    "**Exercise 14: String Indexing**\n",
    "\n",
    "Print the first, third and last character of the string `s = \"Python\"`."
   ]
  },
  {
   "cell_type": "code",
   "execution_count": 27,
   "id": "bb5ea82e",
   "metadata": {},
   "outputs": [
    {
     "name": "stdout",
     "output_type": "stream",
     "text": [
      "First character: P\n",
      "Third character: t\n",
      "Last character: n\n"
     ]
    }
   ],
   "source": [
    "s = \"Python\"\n",
    "\n",
    "print(\"First character:\", s[0])\n",
    "print(\"Third character:\", s[2])\n",
    "print(\"Last character:\", s[-1])"
   ]
  },
  {
   "attachments": {},
   "cell_type": "markdown",
   "id": "77bb2a66",
   "metadata": {},
   "source": [
    "**Exercise 15: String Case Conversion**\n",
    "\n",
    "Convert a string variable `text = \"Python Programming\"` to uppercase, and then to lowercase."
   ]
  },
  {
   "cell_type": "code",
   "execution_count": 38,
   "id": "83d19b45",
   "metadata": {},
   "outputs": [
    {
     "name": "stdout",
     "output_type": "stream",
     "text": [
      "PYTHON PROGRAMMING\n",
      "python programming\n"
     ]
    }
   ],
   "source": [
    "\n",
    "text = \"Python Programming\"\n",
    "\n",
    "print (text.upper())\n",
    "print (text.lower())"
   ]
  },
  {
   "attachments": {},
   "cell_type": "markdown",
   "id": "555cf8a0",
   "metadata": {},
   "source": [
    "**Exercise 16: Concatenate and Repeat Strings**\n",
    "\n",
    "Create two string variables, `s1` with value `Hello` and `s2` with value `World`. Concatenate them with a space in between and repeat this concatenated string 3 times."
   ]
  },
  {
   "cell_type": "code",
   "execution_count": 42,
   "id": "50fd33b3",
   "metadata": {},
   "outputs": [
    {
     "name": "stdout",
     "output_type": "stream",
     "text": [
      "Hello World Hello World Hello World \n"
     ]
    }
   ],
   "source": [
    "s1 = \"Hello\"\n",
    "s2 = \"World\"\n",
    "\n",
    "concat_string = s1 + \" \" + s2 + \" \"\n",
    "result = concat_string * 3\n",
    "\n",
    "print(result)\n"
   ]
  },
  {
   "attachments": {},
   "cell_type": "markdown",
   "id": "e3aa40fa",
   "metadata": {},
   "source": [
    "**Exercise 17: Use the `type()` Function**\n",
    "\n",
    "Use the `type()` function to find the data type of a variable `z` with value `3.14`."
   ]
  },
  {
   "cell_type": "code",
   "execution_count": 43,
   "id": "82364dcc",
   "metadata": {},
   "outputs": [
    {
     "data": {
      "text/plain": [
       "float"
      ]
     },
     "execution_count": 43,
     "metadata": {},
     "output_type": "execute_result"
    }
   ],
   "source": [
    "z = 3.14 \n",
    "\n",
    "type(z)\n"
   ]
  },
  {
   "attachments": {},
   "cell_type": "markdown",
   "id": "b16b1a5b",
   "metadata": {},
   "source": [
    "**Exercise 18: String to List Conversion**\n",
    "\n",
    "Count the number of times the character `o` apears in the sstring `s = Hello, how are you?`."
   ]
  },
  {
   "cell_type": "code",
   "execution_count": 44,
   "id": "38851e0e",
   "metadata": {},
   "outputs": [
    {
     "name": "stdout",
     "output_type": "stream",
     "text": [
      "3\n"
     ]
    }
   ],
   "source": [
    "s = \"Hello, how are you?\"\n",
    "\n",
    "count_o = s.count('o')\n",
    "\n",
    "print(count_o)\n"
   ]
  },
  {
   "attachments": {},
   "cell_type": "markdown",
   "id": "60be670b",
   "metadata": {},
   "source": [
    "**Exercise 19: String Reversal**\n",
    "\n",
    "Reverse a string `text = \"Python\"`."
   ]
  },
  {
   "cell_type": "code",
   "execution_count": 45,
   "id": "b3ece6ff",
   "metadata": {},
   "outputs": [
    {
     "name": "stdout",
     "output_type": "stream",
     "text": [
      "nohtyP\n"
     ]
    }
   ],
   "source": [
    "text = \"Python\"\n",
    "reversed_text = text[::-1]\n",
    "\n",
    "print(reversed_text)"
   ]
  },
  {
   "attachments": {},
   "cell_type": "markdown",
   "id": "f194c452",
   "metadata": {},
   "source": [
    "**Exercise 20: Formatted String from User Input**\n",
    "\n",
    "Ask the user for their name and age, then print a greeting that includes these details."
   ]
  },
  {
   "cell_type": "code",
   "execution_count": 46,
   "id": "3adeb7e9",
   "metadata": {},
   "outputs": [
    {
     "name": "stdout",
     "output_type": "stream",
     "text": [
      "Hello, Yosef! You are 39 years old.\n"
     ]
    }
   ],
   "source": [
    "name = input(\"Enter your name: \")\n",
    "age = input(\"Enter your age: \")\n",
    "\n",
    "print(\"Hello, {}! You are {} years old.\".format(name, age))\n"
   ]
  }
 ],
 "metadata": {
  "kernelspec": {
   "display_name": "Python 3",
   "language": "python",
   "name": "python3"
  },
  "language_info": {
   "codemirror_mode": {
    "name": "ipython",
    "version": 3
   },
   "file_extension": ".py",
   "mimetype": "text/x-python",
   "name": "python",
   "nbconvert_exporter": "python",
   "pygments_lexer": "ipython3",
   "version": "3.10.9"
  }
 },
 "nbformat": 4,
 "nbformat_minor": 5
}
