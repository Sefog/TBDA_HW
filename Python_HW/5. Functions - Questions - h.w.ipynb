{
 "cells": [
  {
   "attachments": {},
   "cell_type": "markdown",
   "id": "4b9d75e7",
   "metadata": {},
   "source": [
    "# Functions\n",
    "\n",
    "## Questions"
   ]
  },
  {
   "attachments": {},
   "cell_type": "markdown",
   "id": "c286ead5",
   "metadata": {},
   "source": [
    "**Exercise 1: Define a simple function called 'greet' that prints 'Hello, world!' when called.**"
   ]
  },
  {
   "cell_type": "code",
   "execution_count": 2,
   "id": "1a4b96ce",
   "metadata": {},
   "outputs": [],
   "source": [
    "def greet():\n",
    "    print('Hello, world!')"
   ]
  },
  {
   "attachments": {},
   "cell_type": "markdown",
   "id": "10ba47ef",
   "metadata": {},
   "source": [
    "**Exercise 2: Call the 'greet' function you defined.**"
   ]
  },
  {
   "cell_type": "code",
   "execution_count": 3,
   "id": "9ebfa7c0",
   "metadata": {},
   "outputs": [
    {
     "name": "stdout",
     "output_type": "stream",
     "text": [
      "Hello, world!\n"
     ]
    }
   ],
   "source": [
    "greet()"
   ]
  },
  {
   "attachments": {},
   "cell_type": "markdown",
   "id": "2699421e",
   "metadata": {},
   "source": [
    "**Exercise 3: Define a function 'add' that takes two parameters and returns their sum.**"
   ]
  },
  {
   "cell_type": "code",
   "execution_count": 4,
   "id": "0b9778a8",
   "metadata": {},
   "outputs": [],
   "source": [
    "def add(x, y):\n",
    "    sum = x + y\n",
    "    print(sum)"
   ]
  },
  {
   "attachments": {},
   "cell_type": "markdown",
   "id": "736f5a51",
   "metadata": {},
   "source": [
    "**Exercise 4: Call the 'add' function with 2 and 3 as arguments.**"
   ]
  },
  {
   "cell_type": "code",
   "execution_count": 5,
   "id": "cc654383",
   "metadata": {},
   "outputs": [
    {
     "name": "stdout",
     "output_type": "stream",
     "text": [
      "5\n"
     ]
    }
   ],
   "source": [
    "add(2, 3)"
   ]
  },
  {
   "attachments": {},
   "cell_type": "markdown",
   "id": "86c7f918",
   "metadata": {},
   "source": [
    "**Exercise 5: Modify the 'add' function to return 'Invalid Input' if any of the input parameters are not an integer or a float.**"
   ]
  },
  {
   "cell_type": "code",
   "execution_count": 1,
   "id": "fd926669",
   "metadata": {},
   "outputs": [],
   "source": [
    "def add(x, y):\n",
    "    if not (isinstance(x, (int, float)) and isinstance(y, (int, float))):\n",
    "        return 'Invalid Input'\n",
    "    return x + y"
   ]
  },
  {
   "attachments": {},
   "cell_type": "markdown",
   "id": "377b3e61",
   "metadata": {},
   "source": [
    "**Exercise 6: Define a function 'safe_divide' that takes two parameters and returns their division result. If division is not possible, it should return 'Invalid Operation'.**"
   ]
  },
  {
   "cell_type": "code",
   "execution_count": 4,
   "id": "1f1f4ea6",
   "metadata": {},
   "outputs": [],
   "source": [
    "def safe_divide(x, y):\n",
    "    try:\n",
    "        result = x / y\n",
    "        return result\n",
    "    except ZeroDivisionError:\n",
    "        return 'Invalid Operation'"
   ]
  },
  {
   "attachments": {},
   "cell_type": "markdown",
   "id": "5cf9dfa6",
   "metadata": {},
   "source": [
    "**Exercise 7: Call 'safe_divide' with 10 and 2, and then with 10 and 0.**"
   ]
  },
  {
   "cell_type": "code",
   "execution_count": 5,
   "id": "5beef75b",
   "metadata": {},
   "outputs": [
    {
     "name": "stdout",
     "output_type": "stream",
     "text": [
      "Invalid Operation\n"
     ]
    }
   ],
   "source": [
    "valid_result = safe_divide(10, 2)\n",
    "print(valid_result) \n",
    "\n",
    "invalid_result = safe_divide(10, 0)\n",
    "print(invalid_result) "
   ]
  },
  {
   "attachments": {},
   "cell_type": "markdown",
   "id": "237f431d",
   "metadata": {},
   "source": [
    "**Exercise 8: Create a function 'create_full_name' that takes two parameters - 'first_name' and 'last_name' (default value = 'Smith') - and returns the full name.**"
   ]
  },
  {
   "cell_type": "code",
   "execution_count": 6,
   "id": "b19003c3",
   "metadata": {},
   "outputs": [],
   "source": [
    "def create_full_name(first_name, last_name='Smith'):\n",
    "    full_name = f\"{first_name} {last_name}\"\n",
    "    return full_name"
   ]
  },
  {
   "attachments": {},
   "cell_type": "markdown",
   "id": "e92c7ec6",
   "metadata": {},
   "source": [
    "**Exercise 9: Call 'create_full_name' with 'John' as the first_name. Then call it with 'John' as the first_name and 'Doe' as the last_name.**"
   ]
  },
  {
   "cell_type": "code",
   "execution_count": 8,
   "id": "33aa06c7",
   "metadata": {},
   "outputs": [
    {
     "name": "stdout",
     "output_type": "stream",
     "text": [
      "John Doe\n"
     ]
    }
   ],
   "source": [
    "full_name_j = create_full_name('John')\n",
    "print(full_name_j) \n",
    "\n",
    "full_name_jd = create_full_name('John', 'Doe')\n",
    "print(full_name_jd) "
   ]
  },
  {
   "attachments": {},
   "cell_type": "markdown",
   "id": "9687fdba",
   "metadata": {},
   "source": [
    "**Exercise 10: Define a function 'sum_all' that takes any number of input parameters and returns their sum.**"
   ]
  },
  {
   "cell_type": "code",
   "execution_count": 9,
   "id": "b36f4c23",
   "metadata": {},
   "outputs": [],
   "source": [
    "def sum_all(*args):\n",
    "    return sum(args)"
   ]
  },
  {
   "attachments": {},
   "cell_type": "markdown",
   "id": "f4d2e598",
   "metadata": {},
   "source": [
    "**Exercise 11: Call 'sum_all' with 1, 2, 3, 4, and 5 as inputs.**"
   ]
  },
  {
   "cell_type": "code",
   "execution_count": 11,
   "id": "2340a673",
   "metadata": {},
   "outputs": [
    {
     "name": "stdout",
     "output_type": "stream",
     "text": [
      "15\n"
     ]
    }
   ],
   "source": [
    "result = sum_all(1, 2, 3, 4, 5)\n",
    "print(result)"
   ]
  },
  {
   "attachments": {},
   "cell_type": "markdown",
   "id": "791f1293",
   "metadata": {},
   "source": [
    "**Exercise 12: Define a function 'key_value_pairs' that takes arbitrary keyword arguments and returns a dictionary of these arguments.**"
   ]
  },
  {
   "cell_type": "code",
   "execution_count": 12,
   "id": "23fc1a5f",
   "metadata": {},
   "outputs": [],
   "source": [
    "def key_value_pairs(**kwargs):\n",
    "    return kwargs"
   ]
  },
  {
   "attachments": {},
   "cell_type": "markdown",
   "id": "b63f7954",
   "metadata": {},
   "source": [
    "**Exercise 13: Call 'key_value_pairs' with 'name' = 'John' and 'age' = 25.**"
   ]
  },
  {
   "cell_type": "code",
   "execution_count": 13,
   "id": "1a8a78ae",
   "metadata": {},
   "outputs": [
    {
     "name": "stdout",
     "output_type": "stream",
     "text": [
      "{'name': 'John', 'age': 25}\n"
     ]
    }
   ],
   "source": [
    "result = key_value_pairs(name='John', age=25)\n",
    "print(result)"
   ]
  },
  {
   "attachments": {},
   "cell_type": "markdown",
   "id": "64118db9",
   "metadata": {},
   "source": [
    "**Exercise 14: Declare a global variable 'x', set its value to 10. Then define a function 'modify_global_var' that changes the global 'x' to 20.**"
   ]
  },
  {
   "cell_type": "code",
   "execution_count": 14,
   "id": "96c898a8",
   "metadata": {},
   "outputs": [],
   "source": [
    "x = 10  \n",
    "\n",
    "def modify_global_var():\n",
    "    global x  \n",
    "    x = 20"
   ]
  },
  {
   "attachments": {},
   "cell_type": "markdown",
   "id": "ab28a01a",
   "metadata": {},
   "source": [
    "**Exercise 15: Print the value of 'x', call 'modify_global_var', then print the value of 'x' again.**"
   ]
  },
  {
   "cell_type": "code",
   "execution_count": 15,
   "id": "cb77c705",
   "metadata": {},
   "outputs": [
    {
     "name": "stdout",
     "output_type": "stream",
     "text": [
      "10\n",
      "20\n"
     ]
    }
   ],
   "source": [
    "print(x)\n",
    "\n",
    "modify_global_var()\n",
    "print(x)"
   ]
  },
  {
   "attachments": {},
   "cell_type": "markdown",
   "id": "cc3c9019",
   "metadata": {},
   "source": [
    "**Exercise 16: Define a function 'raise_error' that raises an ValueError with the message 'An error has occurred'.**"
   ]
  },
  {
   "cell_type": "code",
   "execution_count": 16,
   "id": "e76ff395",
   "metadata": {},
   "outputs": [],
   "source": [
    "def raise_error():\n",
    "    raise ValueError('An error has occurred')"
   ]
  },
  {
   "attachments": {},
   "cell_type": "markdown",
   "id": "9a81a4f4",
   "metadata": {},
   "source": [
    "**Exercise 17: Define a function 'handle_error' that calls 'raise_error' in a try block and handles the ValueError in an except block by printing the error message.**"
   ]
  },
  {
   "cell_type": "code",
   "execution_count": 19,
   "id": "d8d0030b",
   "metadata": {},
   "outputs": [],
   "source": [
    "def handle_error():\n",
    "    try:\n",
    "        raise_error()\n",
    "    except ValueError as e:\n",
    "        print(e)"
   ]
  },
  {
   "attachments": {},
   "cell_type": "markdown",
   "id": "9c024281",
   "metadata": {},
   "source": [
    "**Exercise 18: Call 'handle_error'.**"
   ]
  },
  {
   "cell_type": "code",
   "execution_count": 20,
   "id": "3bb1c181",
   "metadata": {},
   "outputs": [
    {
     "name": "stdout",
     "output_type": "stream",
     "text": [
      "An error has occurred\n"
     ]
    }
   ],
   "source": [
    "handle_error()"
   ]
  },
  {
   "attachments": {},
   "cell_type": "markdown",
   "id": "2b10cb0c",
   "metadata": {},
   "source": [
    "**Exercise 19: Write a function divide_by_two that accepts a list of numbers and returns a new list where each number is divided by 2.**"
   ]
  },
  {
   "cell_type": "code",
   "execution_count": 21,
   "id": "ac652875",
   "metadata": {},
   "outputs": [],
   "source": [
    "def divide_by_two(numbers):\n",
    "    return [number / 2 for number in numbers]"
   ]
  },
  {
   "attachments": {},
   "cell_type": "markdown",
   "id": "1228146f",
   "metadata": {},
   "source": [
    "**Exercise 20: Write a function get_even_numbers that accepts a list of numbers and returns a new list containing only the even numbers from the input list.**"
   ]
  },
  {
   "cell_type": "code",
   "execution_count": 22,
   "id": "4c6b60c6",
   "metadata": {},
   "outputs": [],
   "source": [
    "def get_even_numbers(numbers):\n",
    "    return [number for number in numbers if number % 2 == 0]"
   ]
  },
  {
   "attachments": {},
   "cell_type": "markdown",
   "id": "587e926e",
   "metadata": {},
   "source": [
    "**Exercise 21: Write a function multiply_numbers that accepts a list of numbers and returns the product of all the numbers in the list.**"
   ]
  },
  {
   "cell_type": "code",
   "execution_count": 23,
   "id": "e67beacf",
   "metadata": {},
   "outputs": [],
   "source": [
    "def multiply_numbers(numbers):\n",
    "    result = 1\n",
    "    for number in numbers:\n",
    "        result *= number\n",
    "    return result"
   ]
  },
  {
   "attachments": {},
   "cell_type": "markdown",
   "id": "f3856695",
   "metadata": {},
   "source": [
    "**Exercise 22: Call divide_by_two with the list [1, 2, 3, 4, 5].**"
   ]
  },
  {
   "cell_type": "code",
   "execution_count": 24,
   "id": "374f6570",
   "metadata": {},
   "outputs": [
    {
     "data": {
      "text/plain": [
       "[0.5, 1.0, 1.5, 2.0, 2.5]"
      ]
     },
     "execution_count": 24,
     "metadata": {},
     "output_type": "execute_result"
    }
   ],
   "source": [
    "divide_by_two([1, 2, 3, 4, 5])"
   ]
  },
  {
   "attachments": {},
   "cell_type": "markdown",
   "id": "bca78216",
   "metadata": {},
   "source": [
    "**Exercise 23: Call get_even_numbers with the list [1, 2, 3, 4, 5, 6, 7, 8, 9, 10].**"
   ]
  },
  {
   "cell_type": "code",
   "execution_count": 25,
   "id": "3b9b680a",
   "metadata": {},
   "outputs": [
    {
     "data": {
      "text/plain": [
       "[2, 4, 6, 8, 10]"
      ]
     },
     "execution_count": 25,
     "metadata": {},
     "output_type": "execute_result"
    }
   ],
   "source": [
    "get_even_numbers([1, 2, 3, 4, 5, 6, 7, 8, 9, 10])"
   ]
  },
  {
   "attachments": {},
   "cell_type": "markdown",
   "id": "23183b73",
   "metadata": {},
   "source": [
    "**Exercise 24: Call multiply_numbers with the list [1, 2, 3, 4, 5].**"
   ]
  },
  {
   "cell_type": "code",
   "execution_count": 26,
   "id": "b3b96f9e",
   "metadata": {},
   "outputs": [
    {
     "data": {
      "text/plain": [
       "120"
      ]
     },
     "execution_count": 26,
     "metadata": {},
     "output_type": "execute_result"
    }
   ],
   "source": [
    "multiply_numbers([1, 2, 3, 4, 5])"
   ]
  },
  {
   "attachments": {},
   "cell_type": "markdown",
   "id": "0dcfe6a2",
   "metadata": {},
   "source": [
    "**Exercise 25: Modify multiply_numbers to return \"Invalid Operation\" if the list is empty.**"
   ]
  },
  {
   "cell_type": "code",
   "execution_count": 27,
   "id": "fc8c20d6",
   "metadata": {},
   "outputs": [],
   "source": [
    "def multiply_numbers(numbers):\n",
    "    if not numbers:\n",
    "        return \"Invalid Operation\"\n",
    "    \n",
    "    result = 1\n",
    "    for number in numbers:\n",
    "        result *= number\n",
    "    return result"
   ]
  },
  {
   "attachments": {},
   "cell_type": "markdown",
   "id": "c66a3cbb",
   "metadata": {},
   "source": [
    "**Exercise 26: Call multiply_numbers with an empty list.**"
   ]
  },
  {
   "cell_type": "code",
   "execution_count": 28,
   "id": "cf752e51",
   "metadata": {},
   "outputs": [
    {
     "data": {
      "text/plain": [
       "'Invalid Operation'"
      ]
     },
     "execution_count": 28,
     "metadata": {},
     "output_type": "execute_result"
    }
   ],
   "source": [
    "multiply_numbers([])"
   ]
  },
  {
   "attachments": {},
   "cell_type": "markdown",
   "id": "30df5d51",
   "metadata": {},
   "source": [
    "**Exercise 27: Define a function calculate_operation that receives a list of tuples. Each tuple contains a string (can be \"add\", \"subtract\", \"multiply\", or \"divide\") and two integers. The function should return a list of results according to the operation of each tuple. For example: [(\"add\", 2, 3), (\"subtract\", 5, 2), (\"multiply\", 2, 3)] should return [5, 3, 6].**"
   ]
  },
  {
   "cell_type": "code",
   "execution_count": 34,
   "id": "a633a2d3",
   "metadata": {},
   "outputs": [
    {
     "name": "stdout",
     "output_type": "stream",
     "text": [
      "[5, 3, 6]\n"
     ]
    }
   ],
   "source": [
    "def calculate_operation(operation_list):\n",
    "    results = []\n",
    "    for operation, operand1, operand2 in operation_list:\n",
    "        if operation == \"add\":\n",
    "            result = operand1 + operand2\n",
    "        elif operation == \"subtract\":\n",
    "            result = operand1 - operand2\n",
    "        elif operation == \"multiply\":\n",
    "            result = operand1 * operand2\n",
    "        elif operation == \"divide\":\n",
    "            if operand2 != 0:\n",
    "                result = operand1 / operand2\n",
    "            else:\n",
    "                result = \"Invalid Operation (Division by Zero)\"\n",
    "        else:\n",
    "            result = \"Invalid Operation\"\n",
    "        \n",
    "        results.append(result)\n",
    "\n",
    "    return results\n",
    "\n",
    "operations = [(\"add\", 2, 3), (\"subtract\", 5, 2), (\"multiply\", 2, 3)]\n",
    "results = calculate_operation(operations)\n",
    "print(results)"
   ]
  },
  {
   "attachments": {},
   "cell_type": "markdown",
   "id": "2fde5ce5",
   "metadata": {},
   "source": [
    "**Exercise 28: Create a function sum_of_squares that receives an integer n and returns the sum of the squares of all numbers from 1 to n. For example, if n = 3, it should return 14 because 1^2 + 2^2 + 3^2 = 14.**"
   ]
  },
  {
   "cell_type": "code",
   "execution_count": 35,
   "id": "9cadaa55",
   "metadata": {},
   "outputs": [
    {
     "name": "stdout",
     "output_type": "stream",
     "text": [
      "14\n"
     ]
    }
   ],
   "source": [
    "def sum_of_squares(n):\n",
    "    return sum(i**2 for i in range(1, n+1))\n",
    "\n",
    "result = sum_of_squares(3)\n",
    "print(result)"
   ]
  },
  {
   "attachments": {},
   "cell_type": "markdown",
   "id": "15b01bbc",
   "metadata": {},
   "source": [
    "\n",
    "**Exercise 29: Create a function fibonacci that receives an integer n and returns the nth Fibonacci number. Fibonacci sequence is: 0, 1, 1, 2, 3, 5, 8, 13, ..., where each number is the sum of the two preceding ones. For example, if n = 7, it should return 8**"
   ]
  },
  {
   "cell_type": "code",
   "execution_count": 10,
   "id": "f501c88d",
   "metadata": {},
   "outputs": [
    {
     "name": "stdout",
     "output_type": "stream",
     "text": [
      "8\n"
     ]
    }
   ],
   "source": [
    "def fibonacci(n):\n",
    "    if n <= 1:\n",
    "        return n\n",
    "    \n",
    "    a, b = 0, 1\n",
    "    for _ in range(n - 1):\n",
    "        a, b = b, a + b\n",
    "\n",
    "    return a  \n",
    "\n",
    "result = fibonacci(7)\n",
    "print(result)\n"
   ]
  }
 ],
 "metadata": {
  "kernelspec": {
   "display_name": "Python 3",
   "language": "python",
   "name": "python3"
  },
  "language_info": {
   "codemirror_mode": {
    "name": "ipython",
    "version": 3
   },
   "file_extension": ".py",
   "mimetype": "text/x-python",
   "name": "python",
   "nbconvert_exporter": "python",
   "pygments_lexer": "ipython3",
   "version": "3.10.9"
  }
 },
 "nbformat": 4,
 "nbformat_minor": 5
}
