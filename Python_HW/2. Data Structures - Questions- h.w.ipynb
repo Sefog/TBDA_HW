{
 "cells": [
  {
   "attachments": {},
   "cell_type": "markdown",
   "id": "64a4ad40",
   "metadata": {},
   "source": [
    "# Data Structures\n",
    "\n",
    "## Questions"
   ]
  },
  {
   "attachments": {},
   "cell_type": "markdown",
   "id": "77d5110a",
   "metadata": {},
   "source": [
    "Exercise 1: Creating a List `fruits = [\"apple\", \"banana\", \"cherry\"]`"
   ]
  },
  {
   "cell_type": "code",
   "execution_count": 1,
   "id": "07d802e3",
   "metadata": {},
   "outputs": [
    {
     "name": "stdout",
     "output_type": "stream",
     "text": [
      "['apple', 'banana', 'cherry']\n"
     ]
    }
   ],
   "source": [
    "fruits = [\"apple\", \"banana\", \"cherry\"]\n",
    "\n",
    "print (fruits)\n"
   ]
  },
  {
   "attachments": {},
   "cell_type": "markdown",
   "id": "ba424ff3",
   "metadata": {},
   "source": [
    "Exercise 2: Accessing List Elements `banana`"
   ]
  },
  {
   "cell_type": "code",
   "execution_count": 3,
   "id": "6b9f0346",
   "metadata": {},
   "outputs": [
    {
     "data": {
      "text/plain": [
       "'banana'"
      ]
     },
     "execution_count": 3,
     "metadata": {},
     "output_type": "execute_result"
    }
   ],
   "source": [
    "fruits[1]\n"
   ]
  },
  {
   "attachments": {},
   "cell_type": "markdown",
   "id": "36e7965f",
   "metadata": {},
   "source": [
    "Exercise 3: Changing List Element `banana` with `blueberry`"
   ]
  },
  {
   "cell_type": "code",
   "execution_count": 5,
   "id": "d6b5bcdf",
   "metadata": {},
   "outputs": [
    {
     "name": "stdout",
     "output_type": "stream",
     "text": [
      "['apple', 'blueberry', 'cherry']\n"
     ]
    }
   ],
   "source": [
    "banana_index = fruits.index(\"banana\")\n",
    "\n",
    "fruits[banana_index] = \"blueberry\"\n",
    "\n",
    "print(fruits)"
   ]
  },
  {
   "attachments": {},
   "cell_type": "markdown",
   "id": "809205d9",
   "metadata": {},
   "source": [
    "Exercise 4: Adding Elements to a List `orange`"
   ]
  },
  {
   "cell_type": "code",
   "execution_count": 6,
   "id": "b6fca776",
   "metadata": {},
   "outputs": [
    {
     "name": "stdout",
     "output_type": "stream",
     "text": [
      "['apple', 'blueberry', 'cherry', 'orange']\n"
     ]
    }
   ],
   "source": [
    "fruits.append(\"orange\")\n",
    "\n",
    "print(fruits)"
   ]
  },
  {
   "attachments": {},
   "cell_type": "markdown",
   "id": "60ed93e1",
   "metadata": {},
   "source": [
    "Exercise 5: Removing Element `blueberry` from a List"
   ]
  },
  {
   "cell_type": "code",
   "execution_count": 7,
   "id": "39c347b2",
   "metadata": {},
   "outputs": [
    {
     "name": "stdout",
     "output_type": "stream",
     "text": [
      "['apple', 'cherry', 'orange']\n"
     ]
    }
   ],
   "source": [
    "fruits.remove(\"blueberry\")\n",
    "\n",
    "print(fruits)\n"
   ]
  },
  {
   "attachments": {},
   "cell_type": "markdown",
   "id": "3655097f",
   "metadata": {},
   "source": [
    "Exercise 6: Creating a Tuple `coordinates = (4, 5)`"
   ]
  },
  {
   "cell_type": "code",
   "execution_count": 9,
   "id": "9c095e96",
   "metadata": {},
   "outputs": [
    {
     "name": "stdout",
     "output_type": "stream",
     "text": [
      "(4, 5)\n"
     ]
    }
   ],
   "source": [
    "coordinates = (4, 5)\n",
    "\n",
    "print(coordinates)\n"
   ]
  },
  {
   "attachments": {},
   "cell_type": "markdown",
   "id": "d07d4c06",
   "metadata": {},
   "source": [
    "Exercise 7: Accessing Tuple Element `4`"
   ]
  },
  {
   "cell_type": "code",
   "execution_count": 10,
   "id": "6fbce525",
   "metadata": {},
   "outputs": [
    {
     "data": {
      "text/plain": [
       "4"
      ]
     },
     "execution_count": 10,
     "metadata": {},
     "output_type": "execute_result"
    }
   ],
   "source": [
    "coordinates[0]\n"
   ]
  },
  {
   "attachments": {},
   "cell_type": "markdown",
   "id": "e268cf9b",
   "metadata": {},
   "source": [
    "Exercise 8: Tuple Immutability - Try to change Element `5` with `10`. It will raise an error."
   ]
  },
  {
   "cell_type": "code",
   "execution_count": 13,
   "id": "b1b687af",
   "metadata": {},
   "outputs": [
    {
     "ename": "TypeError",
     "evalue": "'tuple' object does not support item assignment",
     "output_type": "error",
     "traceback": [
      "\u001b[1;31m---------------------------------------------------------------------------\u001b[0m",
      "\u001b[1;31mTypeError\u001b[0m                                 Traceback (most recent call last)",
      "Cell \u001b[1;32mIn[13], line 2\u001b[0m\n\u001b[0;32m      1\u001b[0m \u001b[38;5;66;03m# Error\u001b[39;00m\n\u001b[1;32m----> 2\u001b[0m coordinates[\u001b[38;5;241m1\u001b[39m] \u001b[38;5;241m=\u001b[39m \u001b[38;5;241m10\u001b[39m\n",
      "\u001b[1;31mTypeError\u001b[0m: 'tuple' object does not support item assignment"
     ]
    }
   ],
   "source": [
    "# Error\n",
    "coordinates[1] = 10"
   ]
  },
  {
   "attachments": {},
   "cell_type": "markdown",
   "id": "fe44fe2a",
   "metadata": {},
   "source": [
    "Exercise 9: Creating a Set `numbers = {1, 2, 3, 4, 5}`"
   ]
  },
  {
   "cell_type": "code",
   "execution_count": 14,
   "id": "d64667c3",
   "metadata": {},
   "outputs": [
    {
     "name": "stdout",
     "output_type": "stream",
     "text": [
      "{1, 2, 3, 4, 5}\n"
     ]
    }
   ],
   "source": [
    "numbers = {1, 2, 3, 4, 5}\n",
    "\n",
    "print(numbers)\n"
   ]
  },
  {
   "attachments": {},
   "cell_type": "markdown",
   "id": "a6ca6a75",
   "metadata": {},
   "source": [
    "Exercise 10: Add `6` to a Set"
   ]
  },
  {
   "cell_type": "code",
   "execution_count": 15,
   "id": "65aba7c8",
   "metadata": {},
   "outputs": [
    {
     "name": "stdout",
     "output_type": "stream",
     "text": [
      "{1, 2, 3, 4, 5, 6}\n"
     ]
    }
   ],
   "source": [
    "numbers.add(6)\n",
    "\n",
    "print(numbers)\n"
   ]
  },
  {
   "attachments": {},
   "cell_type": "markdown",
   "id": "203226ef",
   "metadata": {},
   "source": [
    "Exercise 11: Creat a Frozenset from the previous set"
   ]
  },
  {
   "cell_type": "code",
   "execution_count": 17,
   "id": "1edfbe78",
   "metadata": {},
   "outputs": [
    {
     "name": "stdout",
     "output_type": "stream",
     "text": [
      "frozenset({1, 2, 3, 4, 5, 6})\n"
     ]
    }
   ],
   "source": [
    "Frozen_Set = frozenset(numbers)\n",
    "\n",
    "print(Frozen_Set)"
   ]
  },
  {
   "attachments": {},
   "cell_type": "markdown",
   "id": "d65ead88",
   "metadata": {},
   "source": [
    "Exercise 12: Frozenset Immutability - Try to Add `7` to the new frozenset. It will raise an error."
   ]
  },
  {
   "cell_type": "code",
   "execution_count": 18,
   "id": "254e968b",
   "metadata": {},
   "outputs": [
    {
     "ename": "AttributeError",
     "evalue": "'frozenset' object has no attribute 'add'",
     "output_type": "error",
     "traceback": [
      "\u001b[1;31m---------------------------------------------------------------------------\u001b[0m",
      "\u001b[1;31mAttributeError\u001b[0m                            Traceback (most recent call last)",
      "Cell \u001b[1;32mIn[18], line 2\u001b[0m\n\u001b[0;32m      1\u001b[0m \u001b[38;5;66;03m# Error\u001b[39;00m\n\u001b[1;32m----> 2\u001b[0m \u001b[43mFrozen_Set\u001b[49m\u001b[38;5;241;43m.\u001b[39;49m\u001b[43madd\u001b[49m(\u001b[38;5;241m7\u001b[39m)\n",
      "\u001b[1;31mAttributeError\u001b[0m: 'frozenset' object has no attribute 'add'"
     ]
    }
   ],
   "source": [
    "# Error\n",
    "Frozen_Set.add(7)"
   ]
  },
  {
   "attachments": {},
   "cell_type": "markdown",
   "id": "c67c587c",
   "metadata": {},
   "source": [
    "Exercise 13: Creating a Dictionary `fruit_colors = {\"apple\": \"red\", \"banana\": \"yellow\", \"cherry\": \"red\"}`"
   ]
  },
  {
   "cell_type": "code",
   "execution_count": 19,
   "id": "088faeca",
   "metadata": {},
   "outputs": [
    {
     "name": "stdout",
     "output_type": "stream",
     "text": [
      "{'apple': 'red', 'banana': 'yellow', 'cherry': 'red'}\n"
     ]
    }
   ],
   "source": [
    "fruit_colors = {\"apple\": \"red\", \"banana\": \"yellow\", \"cherry\": \"red\"}\n",
    "\n",
    "print(fruit_colors)\n"
   ]
  },
  {
   "attachments": {},
   "cell_type": "markdown",
   "id": "875c43e9",
   "metadata": {},
   "source": [
    "Exercise 14: Accessing Dictionary Values. Print `apple` color"
   ]
  },
  {
   "cell_type": "code",
   "execution_count": 20,
   "id": "54cd4015",
   "metadata": {},
   "outputs": [
    {
     "data": {
      "text/plain": [
       "'red'"
      ]
     },
     "execution_count": 20,
     "metadata": {},
     "output_type": "execute_result"
    }
   ],
   "source": [
    "fruit_colors[\"apple\"]\n"
   ]
  },
  {
   "attachments": {},
   "cell_type": "markdown",
   "id": "f03e1f6e",
   "metadata": {},
   "source": [
    "Exercise 15: Changing Dictionary Values. Replace the `apple` color to `green`"
   ]
  },
  {
   "cell_type": "code",
   "execution_count": 21,
   "id": "36c9f90a",
   "metadata": {},
   "outputs": [
    {
     "name": "stdout",
     "output_type": "stream",
     "text": [
      "{'apple': 'green', 'banana': 'yellow', 'cherry': 'red'}\n"
     ]
    }
   ],
   "source": [
    "fruit_colors[\"apple\"] = \"green\"\n",
    "\n",
    "print(fruit_colors)\n"
   ]
  },
  {
   "attachments": {},
   "cell_type": "markdown",
   "id": "fd1bb6b4",
   "metadata": {},
   "source": [
    "Exercise 16: Adding Key-Value Pairs to a Dictionary `'blueberry': 'blue'`"
   ]
  },
  {
   "cell_type": "code",
   "execution_count": 22,
   "id": "da5b7772",
   "metadata": {},
   "outputs": [
    {
     "name": "stdout",
     "output_type": "stream",
     "text": [
      "{'apple': 'green', 'banana': 'yellow', 'cherry': 'red', 'blueberry': 'blue'}\n"
     ]
    }
   ],
   "source": [
    "fruit_colors[\"blueberry\"] = \"blue\"\n",
    "\n",
    "print(fruit_colors)\n"
   ]
  },
  {
   "attachments": {},
   "cell_type": "markdown",
   "id": "49a39f0f",
   "metadata": {},
   "source": [
    "Exercise 17: Removing Key-Value Pairs from a Dictionary `'banana': 'yellow'`"
   ]
  },
  {
   "cell_type": "code",
   "execution_count": 23,
   "id": "49f5efaa",
   "metadata": {},
   "outputs": [
    {
     "name": "stdout",
     "output_type": "stream",
     "text": [
      "{'apple': 'green', 'cherry': 'red', 'blueberry': 'blue'}\n"
     ]
    }
   ],
   "source": [
    "fruit_colors.pop(\"banana\")\n",
    "\n",
    "print(fruit_colors)\n"
   ]
  },
  {
   "attachments": {},
   "cell_type": "markdown",
   "id": "bf6cc8e6",
   "metadata": {},
   "source": [
    "Exercise 18: Creating a List of Lists (Matrix) `matrix = [[1, 2, 3], [4, 5, 6], [7, 8, 9]]`"
   ]
  },
  {
   "cell_type": "code",
   "execution_count": 24,
   "id": "e5f21766",
   "metadata": {},
   "outputs": [
    {
     "name": "stdout",
     "output_type": "stream",
     "text": [
      "[[1, 2, 3], [4, 5, 6], [7, 8, 9]]\n"
     ]
    }
   ],
   "source": [
    "matrix = [[1, 2, 3], [4, 5, 6], [7, 8, 9]]\n",
    "\n",
    "print(matrix)\n"
   ]
  },
  {
   "attachments": {},
   "cell_type": "markdown",
   "id": "2f39d035",
   "metadata": {},
   "source": [
    "Exercise 19: Accessing Element `2` in a List of Lists"
   ]
  },
  {
   "cell_type": "code",
   "execution_count": 29,
   "id": "49ae12b2",
   "metadata": {},
   "outputs": [
    {
     "data": {
      "text/plain": [
       "2"
      ]
     },
     "execution_count": 29,
     "metadata": {},
     "output_type": "execute_result"
    }
   ],
   "source": [
    "matrix[0][1]\n"
   ]
  },
  {
   "attachments": {},
   "cell_type": "markdown",
   "id": "318e235f",
   "metadata": {},
   "source": [
    "Exercise 20: Changing Element `6` into 10"
   ]
  },
  {
   "cell_type": "code",
   "execution_count": 30,
   "id": "da5224c5",
   "metadata": {},
   "outputs": [
    {
     "name": "stdout",
     "output_type": "stream",
     "text": [
      "[[1, 2, 3], [4, 5, 10], [7, 8, 9]]\n"
     ]
    }
   ],
   "source": [
    "matrix[1][2] = 10\n",
    "\n",
    "print(matrix)\n"
   ]
  },
  {
   "attachments": {},
   "cell_type": "markdown",
   "id": "96567f57",
   "metadata": {},
   "source": [
    "Exercise 21: Creating a Range `0` to `10` and print it"
   ]
  },
  {
   "cell_type": "code",
   "execution_count": 32,
   "id": "c2e2f14c",
   "metadata": {},
   "outputs": [
    {
     "name": "stdout",
     "output_type": "stream",
     "text": [
      "[0, 1, 2, 3, 4, 5, 6, 7, 8, 9, 10]\n"
     ]
    }
   ],
   "source": [
    "num_range = range(0,11)\n",
    "\n",
    "range_list = list(num_range)\n",
    "\n",
    "print(range_list)\n"
   ]
  },
  {
   "attachments": {},
   "cell_type": "markdown",
   "id": "0ab81e3f",
   "metadata": {},
   "source": [
    "Exercise 22: Creating a Range  `0` to `10` with Step `2`"
   ]
  },
  {
   "cell_type": "code",
   "execution_count": 33,
   "id": "a04c4e98",
   "metadata": {},
   "outputs": [
    {
     "name": "stdout",
     "output_type": "stream",
     "text": [
      "[0, 2, 4, 6, 8, 10]\n"
     ]
    }
   ],
   "source": [
    "even_range = range(0, 11, 2)\n",
    "\n",
    "even_list = list(even_range)\n",
    "\n",
    "print(even_list)\n"
   ]
  },
  {
   "attachments": {},
   "cell_type": "markdown",
   "id": "c8caeaef",
   "metadata": {},
   "source": [
    "Exercise 23: Accessing Range Element `4`"
   ]
  },
  {
   "cell_type": "code",
   "execution_count": 34,
   "id": "1c656ddf",
   "metadata": {},
   "outputs": [
    {
     "data": {
      "text/plain": [
       "4"
      ]
     },
     "execution_count": 34,
     "metadata": {},
     "output_type": "execute_result"
    }
   ],
   "source": [
    "range_list[4]\n"
   ]
  },
  {
   "attachments": {},
   "cell_type": "markdown",
   "id": "25125341",
   "metadata": {},
   "source": [
    "Exercise 24: Using List Methods, use the list `fruits = [\"apple\", \"cherry\", \"apple\", \"cherry\", \"apple\"]` and count the number of times the string `apple` apears"
   ]
  },
  {
   "cell_type": "code",
   "execution_count": 35,
   "id": "4550b569",
   "metadata": {},
   "outputs": [
    {
     "data": {
      "text/plain": [
       "3"
      ]
     },
     "execution_count": 35,
     "metadata": {},
     "output_type": "execute_result"
    }
   ],
   "source": [
    "fruits = [\"apple\", \"cherry\", \"apple\", \"cherry\", \"apple\"]\n",
    "\n",
    "fruits.count(\"apple\")\n"
   ]
  },
  {
   "attachments": {},
   "cell_type": "markdown",
   "id": "f898d149",
   "metadata": {},
   "source": [
    "Exercise 25: Sorting the List in decending order"
   ]
  },
  {
   "cell_type": "code",
   "execution_count": 37,
   "id": "c19a8247",
   "metadata": {},
   "outputs": [
    {
     "name": "stdout",
     "output_type": "stream",
     "text": [
      "['cherry', 'cherry', 'apple', 'apple', 'apple']\n"
     ]
    }
   ],
   "source": [
    "fruits.sort(reverse=True)\n",
    "\n",
    "print (fruits)\n"
   ]
  },
  {
   "attachments": {},
   "cell_type": "markdown",
   "id": "1dc50ca4",
   "metadata": {},
   "source": [
    "Exercise 26: Reversing the List"
   ]
  },
  {
   "cell_type": "code",
   "execution_count": 39,
   "id": "4a5c4cc6",
   "metadata": {},
   "outputs": [
    {
     "name": "stdout",
     "output_type": "stream",
     "text": [
      "['apple', 'apple', 'apple', 'cherry', 'cherry']\n"
     ]
    }
   ],
   "source": [
    "fruits.sort(reverse=False)\n",
    "\n",
    "print (fruits)\n"
   ]
  },
  {
   "attachments": {},
   "cell_type": "markdown",
   "id": "841df2ae",
   "metadata": {},
   "source": [
    "Exercise 27: Joining a List of Strings - Create the string `apple, apple, apple, cherry, cherry` from the list `fruits`. save it to a variable called `fruit_string` and Print it"
   ]
  },
  {
   "cell_type": "code",
   "execution_count": 40,
   "id": "fedd5cb7",
   "metadata": {},
   "outputs": [
    {
     "name": "stdout",
     "output_type": "stream",
     "text": [
      "apple, apple, apple, cherry, cherry\n"
     ]
    }
   ],
   "source": [
    "fruit_string = ', '.join(fruits)\n",
    "\n",
    "print(fruit_string)\n"
   ]
  },
  {
   "attachments": {},
   "cell_type": "markdown",
   "id": "fe1cd02a",
   "metadata": {},
   "source": [
    "Exercise 28: Splitting a String into a List - split the strinf `fruit_string` back into a list"
   ]
  },
  {
   "cell_type": "code",
   "execution_count": 41,
   "id": "13f37e5f",
   "metadata": {},
   "outputs": [
    {
     "name": "stdout",
     "output_type": "stream",
     "text": [
      "['apple', 'apple', 'apple', 'cherry', 'cherry']\n"
     ]
    }
   ],
   "source": [
    "fruits = fruit_string.split(\", \")\n",
    "\n",
    "print(fruits)\n"
   ]
  },
  {
   "attachments": {},
   "cell_type": "markdown",
   "id": "21c710ff",
   "metadata": {},
   "source": [
    "Exercise 29: Using Dictionary Methods - Create a list from `fruit_colors` keys"
   ]
  },
  {
   "cell_type": "code",
   "execution_count": 42,
   "id": "db6a8377",
   "metadata": {},
   "outputs": [
    {
     "name": "stdout",
     "output_type": "stream",
     "text": [
      "['apple', 'cherry', 'blueberry']\n"
     ]
    }
   ],
   "source": [
    "fruits = list(fruit_colors.keys())\n",
    "\n",
    "print(fruits)\n"
   ]
  },
  {
   "attachments": {},
   "cell_type": "markdown",
   "id": "77888c33",
   "metadata": {},
   "source": [
    "Exercise 30: Using Dictionary Methods - Create a list from `fruit_colors` values"
   ]
  },
  {
   "cell_type": "code",
   "execution_count": 43,
   "id": "9aae2295",
   "metadata": {},
   "outputs": [
    {
     "name": "stdout",
     "output_type": "stream",
     "text": [
      "['green', 'red', 'blue']\n"
     ]
    }
   ],
   "source": [
    "colors = list(fruit_colors.values())\n",
    "\n",
    "print(colors)\n"
   ]
  }
 ],
 "metadata": {
  "kernelspec": {
   "display_name": "Python 3",
   "language": "python",
   "name": "python3"
  },
  "language_info": {
   "codemirror_mode": {
    "name": "ipython",
    "version": 3
   },
   "file_extension": ".py",
   "mimetype": "text/x-python",
   "name": "python",
   "nbconvert_exporter": "python",
   "pygments_lexer": "ipython3",
   "version": "3.10.9"
  }
 },
 "nbformat": 4,
 "nbformat_minor": 5
}
